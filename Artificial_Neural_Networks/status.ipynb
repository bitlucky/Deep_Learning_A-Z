{
 "cells": [
  {
   "cell_type": "code",
   "execution_count": 1,
   "metadata": {},
   "outputs": [],
   "source": [
    "import numpy as np \n",
    "import pandas as pd \n",
    "import matplotlib.pyplot as plt \n",
    "from sklearn.compose import ColumnTransformer\n"
   ]
  },
  {
   "cell_type": "code",
   "execution_count": 2,
   "metadata": {},
   "outputs": [],
   "source": [
    "dataset = pd.read_csv(\"Churn_Modelling.csv\")\n",
    "df = pd.DataFrame(dataset)\n",
    "abc = df.drop(df.columns[[4,5]], axis=1 , inplace = True)\n",
    "X = df.iloc[ : , 3:11].values\n",
    "Y = df.iloc[: , 11].values\n"
   ]
  },
  {
   "cell_type": "code",
   "execution_count": 3,
   "metadata": {},
   "outputs": [],
   "source": [
    "from sklearn.model_selection import train_test_split\n",
    "X_train , X_test , Y_train , Y_test = train_test_split(X , Y , test_size = 0.2 , random_state = 0)"
   ]
  },
  {
   "cell_type": "code",
   "execution_count": 4,
   "metadata": {},
   "outputs": [],
   "source": [
    "from sklearn.preprocessing import StandardScaler\n",
    "sc_x = StandardScaler()\n",
    "X_train = sc_x.fit_transform(X_train)\n",
    "X_test = sc_x.transform(X_test)"
   ]
  },
  {
   "cell_type": "code",
   "execution_count": 5,
   "metadata": {},
   "outputs": [
    {
     "name": "stderr",
     "output_type": "stream",
     "text": [
      "Using TensorFlow backend.\n"
     ]
    }
   ],
   "source": [
    "import keras\n",
    "from keras.models import Sequential\n",
    "from keras.layers import Dense\n"
   ]
  },
  {
   "cell_type": "code",
   "execution_count": 9,
   "metadata": {},
   "outputs": [
    {
     "name": "stderr",
     "output_type": "stream",
     "text": [
      "/home/bitlucky/anaconda3/lib/python3.7/site-packages/ipykernel_launcher.py:2: UserWarning: Update your `Dense` call to the Keras 2 API: `Dense(input_dim=8, activation=\"relu\", units=5, kernel_initializer=\"uniform\")`\n",
      "  \n",
      "/home/bitlucky/anaconda3/lib/python3.7/site-packages/ipykernel_launcher.py:3: UserWarning: Update your `Dense` call to the Keras 2 API: `Dense(activation=\"relu\", units=5, kernel_initializer=\"uniform\")`\n",
      "  This is separate from the ipykernel package so we can avoid doing imports until\n",
      "/home/bitlucky/anaconda3/lib/python3.7/site-packages/ipykernel_launcher.py:4: UserWarning: Update your `Dense` call to the Keras 2 API: `Dense(activation=\"relu\", units=5, kernel_initializer=\"uniform\")`\n",
      "  after removing the cwd from sys.path.\n",
      "/home/bitlucky/anaconda3/lib/python3.7/site-packages/ipykernel_launcher.py:5: UserWarning: Update your `Dense` call to the Keras 2 API: `Dense(activation=\"sigmoid\", units=1, kernel_initializer=\"uniform\")`\n",
      "  \"\"\"\n"
     ]
    },
    {
     "name": "stdout",
     "output_type": "stream",
     "text": [
      "Epoch 1/100\n",
      "8000/8000 [==============================] - 2s 257us/step - loss: 0.4884 - accuracy: 0.7950\n",
      "Epoch 2/100\n",
      "8000/8000 [==============================] - 1s 112us/step - loss: 0.4419 - accuracy: 0.7960\n",
      "Epoch 3/100\n",
      "8000/8000 [==============================] - 1s 128us/step - loss: 0.4399 - accuracy: 0.7960\n",
      "Epoch 4/100\n",
      "8000/8000 [==============================] - 1s 116us/step - loss: 0.4373 - accuracy: 0.7960\n",
      "Epoch 5/100\n",
      "8000/8000 [==============================] - 1s 113us/step - loss: 0.4318 - accuracy: 0.8034\n",
      "Epoch 6/100\n",
      "8000/8000 [==============================] - 1s 115us/step - loss: 0.4275 - accuracy: 0.8226\n",
      "Epoch 7/100\n",
      "8000/8000 [==============================] - 1s 112us/step - loss: 0.4257 - accuracy: 0.8266\n",
      "Epoch 8/100\n",
      "8000/8000 [==============================] - 1s 122us/step - loss: 0.4237 - accuracy: 0.8279\n",
      "Epoch 9/100\n",
      "8000/8000 [==============================] - 1s 120us/step - loss: 0.4225 - accuracy: 0.8295\n",
      "Epoch 10/100\n",
      "8000/8000 [==============================] - 1s 109us/step - loss: 0.4216 - accuracy: 0.8306\n",
      "Epoch 11/100\n",
      "8000/8000 [==============================] - 1s 111us/step - loss: 0.4208 - accuracy: 0.8307\n",
      "Epoch 12/100\n",
      "8000/8000 [==============================] - 1s 111us/step - loss: 0.4206 - accuracy: 0.8300\n",
      "Epoch 13/100\n",
      "8000/8000 [==============================] - 1s 132us/step - loss: 0.4196 - accuracy: 0.8303\n",
      "Epoch 14/100\n",
      "8000/8000 [==============================] - 1s 141us/step - loss: 0.4188 - accuracy: 0.8314\n",
      "Epoch 15/100\n",
      "8000/8000 [==============================] - 1s 134us/step - loss: 0.4188 - accuracy: 0.8303\n",
      "Epoch 16/100\n",
      "8000/8000 [==============================] - 1s 117us/step - loss: 0.4180 - accuracy: 0.8315\n",
      "Epoch 17/100\n",
      "8000/8000 [==============================] - 1s 118us/step - loss: 0.4179 - accuracy: 0.8316\n",
      "Epoch 18/100\n",
      "8000/8000 [==============================] - 1s 106us/step - loss: 0.4172 - accuracy: 0.8301\n",
      "Epoch 19/100\n",
      "8000/8000 [==============================] - 1s 130us/step - loss: 0.4172 - accuracy: 0.8315\n",
      "Epoch 20/100\n",
      "8000/8000 [==============================] - 1s 129us/step - loss: 0.4166 - accuracy: 0.8303\n",
      "Epoch 21/100\n",
      "8000/8000 [==============================] - 1s 112us/step - loss: 0.4167 - accuracy: 0.8311\n",
      "Epoch 22/100\n",
      "8000/8000 [==============================] - 1s 122us/step - loss: 0.4162 - accuracy: 0.8313\n",
      "Epoch 23/100\n",
      "8000/8000 [==============================] - 1s 121us/step - loss: 0.4161 - accuracy: 0.8303\n",
      "Epoch 24/100\n",
      "8000/8000 [==============================] - 1s 121us/step - loss: 0.4160 - accuracy: 0.8316\n",
      "Epoch 25/100\n",
      "8000/8000 [==============================] - 1s 114us/step - loss: 0.4159 - accuracy: 0.8301\n",
      "Epoch 26/100\n",
      "8000/8000 [==============================] - 1s 117us/step - loss: 0.4155 - accuracy: 0.8325\n",
      "Epoch 27/100\n",
      "8000/8000 [==============================] - 1s 111us/step - loss: 0.4161 - accuracy: 0.8317\n",
      "Epoch 28/100\n",
      "8000/8000 [==============================] - 1s 113us/step - loss: 0.4155 - accuracy: 0.8295\n",
      "Epoch 29/100\n",
      "8000/8000 [==============================] - 1s 112us/step - loss: 0.4156 - accuracy: 0.8314\n",
      "Epoch 30/100\n",
      "8000/8000 [==============================] - 1s 118us/step - loss: 0.4155 - accuracy: 0.8320\n",
      "Epoch 31/100\n",
      "8000/8000 [==============================] - 1s 117us/step - loss: 0.4151 - accuracy: 0.8321\n",
      "Epoch 32/100\n",
      "8000/8000 [==============================] - 1s 126us/step - loss: 0.4150 - accuracy: 0.8324\n",
      "Epoch 33/100\n",
      "8000/8000 [==============================] - 1s 117us/step - loss: 0.4152 - accuracy: 0.8313\n",
      "Epoch 34/100\n",
      "8000/8000 [==============================] - 1s 109us/step - loss: 0.4149 - accuracy: 0.8305\n",
      "Epoch 35/100\n",
      "8000/8000 [==============================] - 1s 106us/step - loss: 0.4153 - accuracy: 0.8316\n",
      "Epoch 36/100\n",
      "8000/8000 [==============================] - 1s 111us/step - loss: 0.4152 - accuracy: 0.8315\n",
      "Epoch 37/100\n",
      "8000/8000 [==============================] - 1s 105us/step - loss: 0.4145 - accuracy: 0.8315\n",
      "Epoch 38/100\n",
      "8000/8000 [==============================] - 1s 108us/step - loss: 0.4146 - accuracy: 0.8307\n",
      "Epoch 39/100\n",
      "8000/8000 [==============================] - 1s 108us/step - loss: 0.4147 - accuracy: 0.8313\n",
      "Epoch 40/100\n",
      "8000/8000 [==============================] - 1s 116us/step - loss: 0.4151 - accuracy: 0.8322\n",
      "Epoch 41/100\n",
      "8000/8000 [==============================] - 1s 106us/step - loss: 0.4146 - accuracy: 0.8305\n",
      "Epoch 42/100\n",
      "8000/8000 [==============================] - 1s 106us/step - loss: 0.4153 - accuracy: 0.8310\n",
      "Epoch 43/100\n",
      "8000/8000 [==============================] - 1s 106us/step - loss: 0.4145 - accuracy: 0.8309\n",
      "Epoch 44/100\n",
      "8000/8000 [==============================] - 1s 106us/step - loss: 0.4149 - accuracy: 0.8314\n",
      "Epoch 45/100\n",
      "8000/8000 [==============================] - 1s 105us/step - loss: 0.4153 - accuracy: 0.8315\n",
      "Epoch 46/100\n",
      "8000/8000 [==============================] - 1s 106us/step - loss: 0.4146 - accuracy: 0.8320\n",
      "Epoch 47/100\n",
      "8000/8000 [==============================] - 1s 106us/step - loss: 0.4145 - accuracy: 0.8313\n",
      "Epoch 48/100\n",
      "8000/8000 [==============================] - 1s 106us/step - loss: 0.4148 - accuracy: 0.8301\n",
      "Epoch 49/100\n",
      "8000/8000 [==============================] - 1s 105us/step - loss: 0.4144 - accuracy: 0.8310\n",
      "Epoch 50/100\n",
      "8000/8000 [==============================] - 1s 117us/step - loss: 0.4146 - accuracy: 0.8314\n",
      "Epoch 51/100\n",
      "8000/8000 [==============================] - 1s 106us/step - loss: 0.4143 - accuracy: 0.8301\n",
      "Epoch 52/100\n",
      "8000/8000 [==============================] - 1s 121us/step - loss: 0.4145 - accuracy: 0.8305\n",
      "Epoch 53/100\n",
      "8000/8000 [==============================] - 1s 107us/step - loss: 0.4146 - accuracy: 0.8311\n",
      "Epoch 54/100\n",
      "8000/8000 [==============================] - 1s 110us/step - loss: 0.4139 - accuracy: 0.8296\n",
      "Epoch 55/100\n",
      "8000/8000 [==============================] - 1s 107us/step - loss: 0.4149 - accuracy: 0.8301\n",
      "Epoch 56/100\n",
      "8000/8000 [==============================] - 1s 113us/step - loss: 0.4140 - accuracy: 0.8305\n",
      "Epoch 57/100\n",
      "8000/8000 [==============================] - 1s 118us/step - loss: 0.4144 - accuracy: 0.8314\n",
      "Epoch 58/100\n",
      "8000/8000 [==============================] - 1s 108us/step - loss: 0.4142 - accuracy: 0.8324\n",
      "Epoch 59/100\n",
      "8000/8000 [==============================] - 1s 110us/step - loss: 0.4143 - accuracy: 0.8316\n",
      "Epoch 60/100\n",
      "8000/8000 [==============================] - 1s 108us/step - loss: 0.4145 - accuracy: 0.8303\n",
      "Epoch 61/100\n",
      "8000/8000 [==============================] - 1s 111us/step - loss: 0.4142 - accuracy: 0.8314\n",
      "Epoch 62/100\n",
      "8000/8000 [==============================] - 1s 111us/step - loss: 0.4143 - accuracy: 0.8314\n",
      "Epoch 63/100\n",
      "8000/8000 [==============================] - 1s 108us/step - loss: 0.4145 - accuracy: 0.8307\n",
      "Epoch 64/100\n",
      "8000/8000 [==============================] - 1s 108us/step - loss: 0.4141 - accuracy: 0.8301\n",
      "Epoch 65/100\n",
      "8000/8000 [==============================] - 1s 108us/step - loss: 0.4144 - accuracy: 0.8321\n",
      "Epoch 66/100\n",
      "8000/8000 [==============================] - 1s 107us/step - loss: 0.4144 - accuracy: 0.8298\n",
      "Epoch 67/100\n",
      "8000/8000 [==============================] - 1s 108us/step - loss: 0.4146 - accuracy: 0.8298\n",
      "Epoch 68/100\n",
      "8000/8000 [==============================] - 1s 107us/step - loss: 0.4144 - accuracy: 0.8309\n",
      "Epoch 69/100\n",
      "8000/8000 [==============================] - 1s 108us/step - loss: 0.4148 - accuracy: 0.8313\n",
      "Epoch 70/100\n",
      "8000/8000 [==============================] - 1s 107us/step - loss: 0.4137 - accuracy: 0.8310\n",
      "Epoch 71/100\n",
      "8000/8000 [==============================] - 1s 112us/step - loss: 0.4141 - accuracy: 0.8320\n",
      "Epoch 72/100\n",
      "8000/8000 [==============================] - 1s 108us/step - loss: 0.4143 - accuracy: 0.8303\n",
      "Epoch 73/100\n",
      "8000/8000 [==============================] - 1s 108us/step - loss: 0.4141 - accuracy: 0.8304\n",
      "Epoch 74/100\n",
      "8000/8000 [==============================] - 1s 108us/step - loss: 0.4141 - accuracy: 0.8324\n",
      "Epoch 75/100\n",
      "8000/8000 [==============================] - 1s 110us/step - loss: 0.4143 - accuracy: 0.8309\n",
      "Epoch 76/100\n",
      "8000/8000 [==============================] - 1s 108us/step - loss: 0.4141 - accuracy: 0.8314\n",
      "Epoch 77/100\n",
      "8000/8000 [==============================] - 1s 108us/step - loss: 0.4142 - accuracy: 0.8317\n",
      "Epoch 78/100\n"
     ]
    },
    {
     "name": "stdout",
     "output_type": "stream",
     "text": [
      "8000/8000 [==============================] - 1s 105us/step - loss: 0.4140 - accuracy: 0.8316\n",
      "Epoch 79/100\n",
      "8000/8000 [==============================] - 1s 109us/step - loss: 0.4147 - accuracy: 0.8306\n",
      "Epoch 80/100\n",
      "8000/8000 [==============================] - 1s 104us/step - loss: 0.4138 - accuracy: 0.8310\n",
      "Epoch 81/100\n",
      "8000/8000 [==============================] - 1s 111us/step - loss: 0.4148 - accuracy: 0.8310\n",
      "Epoch 82/100\n",
      "8000/8000 [==============================] - 1s 107us/step - loss: 0.4143 - accuracy: 0.8301\n",
      "Epoch 83/100\n",
      "8000/8000 [==============================] - 1s 106us/step - loss: 0.4140 - accuracy: 0.8304\n",
      "Epoch 84/100\n",
      "8000/8000 [==============================] - 1s 108us/step - loss: 0.4139 - accuracy: 0.8315\n",
      "Epoch 85/100\n",
      "8000/8000 [==============================] - 1s 106us/step - loss: 0.4142 - accuracy: 0.8317\n",
      "Epoch 86/100\n",
      "8000/8000 [==============================] - 1s 106us/step - loss: 0.4139 - accuracy: 0.8315\n",
      "Epoch 87/100\n",
      "8000/8000 [==============================] - 1s 104us/step - loss: 0.4142 - accuracy: 0.8305\n",
      "Epoch 88/100\n",
      "8000/8000 [==============================] - 1s 105us/step - loss: 0.4142 - accuracy: 0.8310\n",
      "Epoch 89/100\n",
      "8000/8000 [==============================] - 1s 106us/step - loss: 0.4139 - accuracy: 0.8295\n",
      "Epoch 90/100\n",
      "8000/8000 [==============================] - 1s 104us/step - loss: 0.4138 - accuracy: 0.8292\n",
      "Epoch 91/100\n",
      "8000/8000 [==============================] - 1s 105us/step - loss: 0.4139 - accuracy: 0.8304\n",
      "Epoch 92/100\n",
      "8000/8000 [==============================] - 1s 105us/step - loss: 0.4140 - accuracy: 0.8314\n",
      "Epoch 93/100\n",
      "8000/8000 [==============================] - 1s 109us/step - loss: 0.4133 - accuracy: 0.8317\n",
      "Epoch 94/100\n",
      "8000/8000 [==============================] - 1s 105us/step - loss: 0.4141 - accuracy: 0.8292\n",
      "Epoch 95/100\n",
      "8000/8000 [==============================] - 1s 105us/step - loss: 0.4138 - accuracy: 0.8305\n",
      "Epoch 96/100\n",
      "8000/8000 [==============================] - 1s 104us/step - loss: 0.4140 - accuracy: 0.8326\n",
      "Epoch 97/100\n",
      "8000/8000 [==============================] - 1s 104us/step - loss: 0.4136 - accuracy: 0.8307\n",
      "Epoch 98/100\n",
      "8000/8000 [==============================] - 1s 106us/step - loss: 0.4137 - accuracy: 0.8316\n",
      "Epoch 99/100\n",
      "8000/8000 [==============================] - 1s 106us/step - loss: 0.4135 - accuracy: 0.8315\n",
      "Epoch 100/100\n",
      "8000/8000 [==============================] - 1s 104us/step - loss: 0.4141 - accuracy: 0.8311\n"
     ]
    },
    {
     "data": {
      "text/plain": [
       "<keras.callbacks.callbacks.History at 0x7fbc8f955f90>"
      ]
     },
     "execution_count": 9,
     "metadata": {},
     "output_type": "execute_result"
    }
   ],
   "source": [
    "classifier = Sequential()\n",
    "classifier.add(Dense(output_dim = 5 , init = 'uniform' , input_dim = 8 , activation='relu'))\n",
    "classifier.add(Dense(output_dim = 5 , init = 'uniform' , activation='relu'))\n",
    "classifier.add(Dense(output_dim = 5 , init = 'uniform' , activation='relu'))\n",
    "classifier.add(Dense(output_dim=1 , init='uniform' , activation=\"sigmoid\"))\n",
    "classifier.compile(optimizer= 'adam' , loss='binary_crossentropy', metrics=['accuracy'])\n",
    "classifier.fit(X_train , Y_train , batch_size = 10 , epochs = 100)"
   ]
  },
  {
   "cell_type": "code",
   "execution_count": 19,
   "metadata": {},
   "outputs": [],
   "source": [
    "y_pred = classifier.predict(X_test)\n",
    "y_pred = (y_pred>0.5)"
   ]
  },
  {
   "cell_type": "code",
   "execution_count": 22,
   "metadata": {},
   "outputs": [],
   "source": [
    "from sklearn.metrics import confusion_matrix\n",
    "cm = confusion_matrix(Y_test , y_pred)"
   ]
  },
  {
   "cell_type": "code",
   "execution_count": 23,
   "metadata": {},
   "outputs": [
    {
     "data": {
      "text/plain": [
       "array([[1555,   40],\n",
       "       [ 284,  121]])"
      ]
     },
     "execution_count": 23,
     "metadata": {},
     "output_type": "execute_result"
    }
   ],
   "source": [
    "cm\n"
   ]
  },
  {
   "cell_type": "code",
   "execution_count": 30,
   "metadata": {},
   "outputs": [
    {
     "data": {
      "text/plain": [
       "0.838"
      ]
     },
     "execution_count": 30,
     "metadata": {},
     "output_type": "execute_result"
    }
   ],
   "source": [
    "(1555+121)/2000"
   ]
  },
  {
   "cell_type": "code",
   "execution_count": 43,
   "metadata": {},
   "outputs": [],
   "source": [
    "from keras.wrappers.scikit_learn import KerasClassifier\n",
    "from sklearn.model_selection import cross_val_score \n",
    "def buildClassifer():\n",
    "    classifier = Sequential()\n",
    "    classifier.add(Dense(output_dim = 5 , init = 'uniform' , input_dim = 8 , activation='relu'))\n",
    "    classifier.add(Dense(output_dim = 5 , init = 'uniform' , activation='relu'))\n",
    "    classifier.add(Dense(output_dim = 5 , init = 'uniform' , activation='relu'))\n",
    "    classifier.add(Dense(output_dim=1 , init='uniform' , activation=\"sigmoid\"))\n",
    "    classifier.compiler(optimizer = 'adam' , loss='binary_crossentropy' , metric=['accuracy'])\n",
    "    return classifier\n",
    "\n",
    "classifier = KerasClassifier(build_fn=buildClassifer , batch_size = 10 , epochs = 100)\n",
    "accuracies= cross_val_score(estimator = classifier ,X = X_train , y=Y_train , cv=10, n_jobs=-1)\n",
    "mean = accuracies.mean()\n",
    "variance = accuracies.std()"
   ]
  },
  {
   "cell_type": "code",
   "execution_count": null,
   "metadata": {},
   "outputs": [],
   "source": []
  }
 ],
 "metadata": {
  "kernelspec": {
   "display_name": "Python 3",
   "language": "python",
   "name": "python3"
  },
  "language_info": {
   "codemirror_mode": {
    "name": "ipython",
    "version": 3
   },
   "file_extension": ".py",
   "mimetype": "text/x-python",
   "name": "python",
   "nbconvert_exporter": "python",
   "pygments_lexer": "ipython3",
   "version": "3.7.7"
  }
 },
 "nbformat": 4,
 "nbformat_minor": 4
}
